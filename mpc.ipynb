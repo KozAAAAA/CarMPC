{
 "cells": [
  {
   "cell_type": "code",
   "execution_count": 270,
   "metadata": {},
   "outputs": [],
   "source": [
    "import numpy as np\n",
    "import sys\n",
    "import os\n",
    "import do_mpc\n",
    "import casadi\n",
    "import matplotlib.pyplot as plt\n",
    "import matplotlib as mpl\n",
    "\n",
    "# Customizing Matplotlib:\n",
    "mpl.rcParams['axes.grid'] = True\n"
   ]
  },
  {
   "cell_type": "markdown",
   "metadata": {},
   "source": [
    "## Configure the model"
   ]
  },
  {
   "cell_type": "code",
   "execution_count": 271,
   "metadata": {},
   "outputs": [],
   "source": [
    "model = do_mpc.model.Model(\"continuous\")"
   ]
  },
  {
   "cell_type": "code",
   "execution_count": 272,
   "metadata": {},
   "outputs": [],
   "source": [
    "# states _x\n",
    "phi_1 = model.set_variable(var_type=\"_x\", var_name=\"phi_1\", shape=(1, 1))\n",
    "phi_2 = model.set_variable(var_type=\"_x\", var_name=\"phi_2\", shape=(1, 1))\n",
    "phi_3 = model.set_variable(var_type=\"_x\", var_name=\"phi_3\", shape=(1, 1))\n",
    "dphi = model.set_variable(var_type=\"_x\", var_name=\"dphi\", shape=(3, 1))\n",
    "phi_1_m = model.set_variable(var_type=\"_x\", var_name=\"phi_1_m\", shape=(1,1))\n",
    "phi_2_m = model.set_variable(var_type=\"_x\", var_name=\"phi_2_m\", shape=(1,1))"
   ]
  },
  {
   "cell_type": "code",
   "execution_count": 273,
   "metadata": {},
   "outputs": [],
   "source": [
    "# inputs _u\n",
    "phi_m_1_set = model.set_variable(var_type=\"_u\", var_name=\"phi_m_1_set\")\n",
    "phi_m_2_set = model.set_variable(var_type=\"_u\", var_name=\"phi_m_2_set\")"
   ]
  },
  {
   "cell_type": "code",
   "execution_count": 274,
   "metadata": {},
   "outputs": [],
   "source": [
    "# parameters _p\n",
    "Theta_1 = model.set_variable('_p', 'Theta_1')\n",
    "Theta_2 = model.set_variable('_p', 'Theta_2')\n",
    "Theta_3 = model.set_variable('_p', 'Theta_3')\n",
    "c = np.array([2.697,  2.66,  3.05, 2.86])*1e-3\n",
    "d = np.array([6.78,  8.01,  8.82])*1e-5"
   ]
  },
  {
   "cell_type": "code",
   "execution_count": 275,
   "metadata": {},
   "outputs": [],
   "source": [
    "# rhs (first order differential equasions of _x)\n",
    "ddphi = casadi.vertcat(\n",
    "    -c[0]/Theta_1*(phi_1-phi_1_m)-c[1]/Theta_1*(phi_1-phi_2)-d[0]/Theta_1*dphi[0],\n",
    "    -c[1]/Theta_2*(phi_2-phi_1)-c[2]/Theta_2*(phi_2-phi_3)-d[1]/Theta_2*dphi[1],\n",
    "    -c[2]/Theta_3*(phi_3-phi_2)-c[3]/Theta_3*(phi_3-phi_2_m)-d[2]/Theta_3*dphi[2],\n",
    ")\n",
    "tau = 1e-2\n",
    "model.set_rhs('phi_1', dphi[0])\n",
    "model.set_rhs('phi_2', dphi[1])\n",
    "model.set_rhs('phi_3', dphi[2])\n",
    "model.set_rhs('dphi', ddphi)\n",
    "model.set_rhs('phi_1_m', 1/tau*(phi_m_1_set - phi_1_m))\n",
    "model.set_rhs('phi_2_m', 1/tau*(phi_m_2_set - phi_2_m))"
   ]
  },
  {
   "cell_type": "code",
   "execution_count": 276,
   "metadata": {},
   "outputs": [],
   "source": [
    "model.setup()"
   ]
  },
  {
   "cell_type": "markdown",
   "metadata": {},
   "source": [
    "## Configure the MPC "
   ]
  },
  {
   "cell_type": "markdown",
   "metadata": {},
   "source": [
    "#### Set parameters"
   ]
  },
  {
   "cell_type": "code",
   "execution_count": 277,
   "metadata": {},
   "outputs": [],
   "source": [
    "mpc = do_mpc.controller.MPC(model)\n",
    "\n",
    "mpc.set_param(\n",
    "    n_horizon = 20,\n",
    "    t_step = 0.1,\n",
    "    n_robust = 1,\n",
    "    store_full_solution = True,\n",
    ")"
   ]
  },
  {
   "cell_type": "markdown",
   "metadata": {},
   "source": [
    "#### Create objective function\n",
    "\n",
    "**lterm** - lagrange term, penalty which is a sum of each state (k - N)\n",
    "\n",
    "**mterm** - meyer term, penalty for the terminal state which is N+1\n",
    "\n",
    "**rterm** - penalty for control inputs, controlled by R matrix"
   ]
  },
  {
   "cell_type": "code",
   "execution_count": 278,
   "metadata": {},
   "outputs": [],
   "source": [
    "SETPOINT = 2\n",
    "\n",
    "mterm = (phi_1-SETPOINT)**2 + (phi_2-SETPOINT)**2 + (phi_3-SETPOINT)**2\n",
    "lterm = mterm\n",
    "\n",
    "mpc.set_objective(mterm=mterm, lterm=lterm)\n",
    "mpc.set_rterm(\n",
    "    phi_m_1_set=1e-2,\n",
    "    phi_m_2_set=1e-2\n",
    ")"
   ]
  },
  {
   "cell_type": "markdown",
   "metadata": {},
   "source": [
    "#### Constraints"
   ]
  },
  {
   "cell_type": "code",
   "execution_count": 279,
   "metadata": {},
   "outputs": [],
   "source": [
    "mpc.bounds['lower', '_x', 'phi_1'] = -2*np.pi\n",
    "mpc.bounds['lower', '_x', 'phi_2'] = -2*np.pi\n",
    "mpc.bounds['lower', '_x', 'phi_3'] = -2*np.pi\n",
    "\n",
    "mpc.bounds['upper', '_x', 'phi_1'] = 2*np.pi\n",
    "mpc.bounds['upper', '_x', 'phi_2'] = 2*np.pi\n",
    "mpc.bounds['upper', '_x', 'phi_3'] = 2*np.pi"
   ]
  },
  {
   "cell_type": "code",
   "execution_count": 280,
   "metadata": {},
   "outputs": [],
   "source": [
    "mpc.bounds['lower', '_u', 'phi_m_1_set'] = -2*np.pi\n",
    "mpc.bounds['lower', '_u', 'phi_m_1_set'] = -2*np.pi\n",
    "\n",
    "mpc.bounds['upper', '_u', 'phi_m_1_set'] = 2*np.pi\n",
    "mpc.bounds['upper', '_u', 'phi_m_1_set'] = 2*np.pi"
   ]
  },
  {
   "cell_type": "markdown",
   "metadata": {},
   "source": [
    "#### Scaling\n",
    "\n",
    "Not necessary in this problem, but if s have significantly different magnitude, they should be scaled to the same order of magnitude"
   ]
  },
  {
   "cell_type": "code",
   "execution_count": 281,
   "metadata": {},
   "outputs": [],
   "source": [
    "mpc.scaling['_x','phi_1'] = 2\n",
    "mpc.scaling['_x','phi_2'] = 2\n",
    "mpc.scaling['_x','phi_3'] = 2"
   ]
  },
  {
   "cell_type": "markdown",
   "metadata": {},
   "source": [
    "#### Uncertain parameters\n",
    "\n",
    "If the exact value of the parameters is unknown, they can be set during the **model** creation. Now we must provide the optimizer with different possible values for these parameters. MPC will then predict multiple future trajectories (and will choose the one that minimizes the objective function the best ???)."
   ]
  },
  {
   "cell_type": "code",
   "execution_count": 282,
   "metadata": {},
   "outputs": [],
   "source": [
    "inertia_mass_1 = 2.25*1e-4*np.array([1., 0.9, 1.1])\n",
    "inertia_mass_2 = 2.25*1e-4*np.array([1., 0.9, 1.1])\n",
    "inertia_mass_3 = 2.25*1e-4*np.array([1.])\n",
    "\n",
    "mpc.set_uncertainty_values(\n",
    "    Theta_1 = inertia_mass_1,\n",
    "    Theta_2 = inertia_mass_2,\n",
    "    Theta_3 = inertia_mass_3\n",
    ")"
   ]
  },
  {
   "cell_type": "markdown",
   "metadata": {},
   "source": [
    "#### Setup"
   ]
  },
  {
   "cell_type": "code",
   "execution_count": 283,
   "metadata": {},
   "outputs": [],
   "source": [
    "mpc.setup()"
   ]
  },
  {
   "cell_type": "markdown",
   "metadata": {},
   "source": [
    "## Simulator\n",
    "\n",
    "Set theta values as const"
   ]
  },
  {
   "cell_type": "code",
   "execution_count": 284,
   "metadata": {},
   "outputs": [],
   "source": [
    "simulator = do_mpc.simulator.Simulator(model)\n",
    "simulator.set_param(t_step=0.1)\n",
    "\n",
    "p_template = simulator.get_p_template()\n",
    "\n",
    "def p_fun(t_now):\n",
    "    p_template['Theta_1'] = 2.25e-4\n",
    "    p_template['Theta_2'] = 2.25e-4\n",
    "    p_template['Theta_3'] = 2.25e-4\n",
    "    return p_template\n",
    "\n",
    "simulator.set_p_fun(p_fun)\n",
    "simulator.setup()"
   ]
  },
  {
   "cell_type": "markdown",
   "metadata": {},
   "source": [
    "## Controll loop"
   ]
  },
  {
   "cell_type": "markdown",
   "metadata": {},
   "source": [
    "#### Set the initial state"
   ]
  },
  {
   "cell_type": "code",
   "execution_count": 285,
   "metadata": {},
   "outputs": [],
   "source": [
    "x0 = np.pi*np.array([1, 1, -1.5, 1, -1, 1, 0, 0]).reshape(-1,1)\n",
    "simulator.x0 = x0\n",
    "mpc.x0 = x0\n",
    "mpc.set_initial_guess()"
   ]
  },
  {
   "cell_type": "markdown",
   "metadata": {},
   "source": [
    "#### Visualisation"
   ]
  },
  {
   "cell_type": "code",
   "execution_count": 286,
   "metadata": {},
   "outputs": [],
   "source": [
    "%%capture\n",
    "\n",
    "mpc_graphics = do_mpc.graphics.Graphics(mpc.data)\n",
    "sim_graphics = do_mpc.graphics.Graphics(simulator.data)\n",
    "\n",
    "fig, ax = plt.subplots(2, sharex=True, figsize=(16,9))\n",
    "fig.align_ylabels()\n",
    "\n",
    "for g in [sim_graphics, mpc_graphics]:\n",
    "    # Plot the angle positions (phi_1, phi_2, phi_2) on the first axis:\n",
    "    g.add_line(var_type='_x', var_name='phi_1', axis=ax[0])\n",
    "    g.add_line(var_type='_x', var_name='phi_2', axis=ax[0])\n",
    "    g.add_line(var_type='_x', var_name='phi_3', axis=ax[0])\n",
    "\n",
    "    # Plot the set motor positions (phi_m_1_set, phi_m_2_set) on the second axis:\n",
    "    g.add_line(var_type='_u', var_name='phi_m_1_set', axis=ax[1])\n",
    "    g.add_line(var_type='_u', var_name='phi_m_2_set', axis=ax[1])\n",
    "\n",
    "\n",
    "ax[0].set_ylabel('angle position [rad]')\n",
    "ax[1].set_ylabel('motor angle [rad]')\n",
    "ax[1].set_xlabel('time [s]')"
   ]
  },
  {
   "cell_type": "markdown",
   "metadata": {},
   "source": [
    "#### Running the simulator"
   ]
  },
  {
   "cell_type": "code",
   "execution_count": 287,
   "metadata": {},
   "outputs": [],
   "source": [
    "%%capture\n",
    "for i in range(50):\n",
    "    u0 = mpc.make_step(x0)\n",
    "    x0 = simulator.make_step(u0)"
   ]
  },
  {
   "cell_type": "code",
   "execution_count": 288,
   "metadata": {},
   "outputs": [
    {
     "data": {
      "image/png": "[encoded data removed]",
      "text/plain": [
       "<Figure size 1600x900 with 2 Axes>"
      ]
     },
     "execution_count": 288,
     "metadata": {},
     "output_type": "execute_result"
    }
   ],
   "source": [
    "# mpc_graphics.plot_predictions(t_ind=40)\n",
    "sim_graphics.plot_results()\n",
    "sim_graphics.reset_axes()\n",
    "fig"
   ]
  }
 ],
 "metadata": {
  "kernelspec": {
   "display_name": "venv",
   "language": "python",
   "name": "python3"
  },
  "language_info": {
   "codemirror_mode": {
    "name": "ipython",
    "version": 3
   },
   "file_extension": ".py",
   "mimetype": "text/x-python",
   "name": "python",
   "nbconvert_exporter": "python",
   "pygments_lexer": "ipython3",
   "version": "3.10.12"
  }
 },
 "nbformat": 4,
 "nbformat_minor": 2
}
